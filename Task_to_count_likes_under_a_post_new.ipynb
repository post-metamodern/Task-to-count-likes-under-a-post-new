{
 "cells": [
  {
   "cell_type": "markdown",
   "id": "121d4b9e-fbeb-456d-8608-bc0abf74e86e",
   "metadata": {},
   "source": [
    "# Тестовое задание:\n",
    "\n",
    "Возьмите свою страницу Вконтакте, соберите по ней таблицу с датой постов и количеством лайков и напишите SQL-запросы, которые позволят ответить на вопрос: что больше всего влияет на количество лайков: время суток публикации, день недели или промежуток между постами.\n",
    "\n",
    "В качестве ответа приложите таблицу в формате CSV, SQL-запросы с необходимыми пояснениями и выводом. Вместо своей страницы можно взять станицу друга, в любом случае укажите адрес страницы.\n",
    "\n",
    "-----\n",
    "Адресс страницы: https://vk.com/stallionred"
   ]
  },
  {
   "cell_type": "code",
   "execution_count": 1,
   "id": "ceb97d8d-e5fe-4b2a-871b-398f31e4b8e8",
   "metadata": {},
   "outputs": [],
   "source": [
    "# Импортирую необходимые для работы библиотеки.\n",
    "import pandas as pd\n",
    "import numpy as np\n",
    "import requests\n",
    "import sqlite3\n",
    "from datetime import datetime\n",
    "import seaborn as sns\n",
    "import matplotlib.pyplot as plt\n",
    "from scipy import stats"
   ]
  },
  {
   "cell_type": "code",
   "execution_count": 2,
   "id": "a9f35a32-e36b-4f05-bd2b-8de9f5e7d04e",
   "metadata": {},
   "outputs": [],
   "source": [
    "## Устанавливаю ключ доступа своей страницы - token, id - айди своей страницы, \n",
    "# version - версию API социальной сети ВКонтакте, count - колличество постов на странице.\n",
    "# token = \"vk1.a.Hy-YoBnYxfdBYjZazF2KhQJYtqWfyoL3GFqFD_ZcjuaO4B1A6iicP2f2f8LpiMxTRYTdsiuD7ydkPn1mrq0rwQEzoqYSX0NNI8t75Xr-6tPy54BVxaszXm1ODHzfEWqzZmiWNfAwn6xzQmIPVwlej-Z5ypH1KML7ldQGaJGXHd-LafM18Dwna7A1AKSnY8m02l-5dtcsguABPpWtk4ve1Q\"\n",
    "# owner_id = 274427934\n",
    "# version = \"5.131\"\n",
    "# count = 100"
   ]
  },
  {
   "cell_type": "code",
   "execution_count": 3,
   "id": "4c4bd3cc-5dbf-4c00-927c-e4c309bce3dd",
   "metadata": {},
   "outputs": [],
   "source": [
    "## Вставляю вышеперечисленное в url адрес.\n",
    "# url = f\"https://api.vk.com/method/wall.get?owner_id={owner_id}&count={count}&v={version}&access_token={token}\""
   ]
  },
  {
   "cell_type": "code",
   "execution_count": 4,
   "id": "fad64001-4e93-43de-b415-65cd4113cad0",
   "metadata": {},
   "outputs": [],
   "source": [
    "## Применяю библиотекую requests выполняю HTTP GET запрос к url \n",
    "## который возвращает информацию ответа от сервера response.\n",
    "# response = requests.get(url)"
   ]
  },
  {
   "cell_type": "code",
   "execution_count": 5,
   "id": "435d1148-1877-4eb6-9eb5-b75410516758",
   "metadata": {},
   "outputs": [],
   "source": [
    "## Преобразую HTTP-ответ в формат JSON.\n",
    "# data = response.json()"
   ]
  },
  {
   "cell_type": "code",
   "execution_count": 6,
   "id": "b121c9e4-bcf5-4f0f-92d8-1c14edbe13ed",
   "metadata": {},
   "outputs": [],
   "source": [
    "## Создаю список data_list и передаю туда с помощью цикла for \n",
    "# дату поста (date) и колличество лайков на нём (likes).\n",
    "# data_list = []\n",
    "# for post in data['response']['items']:\n",
    "    # post_date = datetime.utcfromtimestamp(post['date']).strftime('%Y-%m-%d %H:%M:%S')\n",
    "    # likes = post['likes']['count']\n",
    "    # data_list.append({'date': post_date, 'likes': likes})"
   ]
  },
  {
   "cell_type": "code",
   "execution_count": 7,
   "id": "92f46891-8f48-4d91-af18-15dc04cb99ad",
   "metadata": {},
   "outputs": [],
   "source": [
    "## Инициализирую DataFrame.\n",
    "# df = pd.DataFrame(data_list)"
   ]
  },
  {
   "cell_type": "markdown",
   "id": "6ec19ef0-5184-4250-aee8-2d709b579511",
   "metadata": {},
   "source": [
    "### Создаю таблицу, которая получалась (сейчас данные изменены) в результате выполнения всех вышеизложанных действий."
   ]
  },
  {
   "cell_type": "code",
   "execution_count": 8,
   "id": "fa5063a3-6834-43e8-9ae3-b52135d31a58",
   "metadata": {},
   "outputs": [],
   "source": [
    "data = {\n",
    "    'date': [\n",
    "        '2023-09-24 19:55:55', '2024-09-16 13:38:04', '2023-03-09 01:25:17', \n",
    "        '2022-10-24 15:40:21', '2022-08-03 16:02:05', '2022-05-11 23:30:51', \n",
    "        '2022-05-07 19:08:08', '2022-01-25 16:50:21', '2022-01-24 21:50:50', \n",
    "        '2022-01-16 22:41:07', '2022-01-16 00:46:57', '2021-12-30 21:29:34', \n",
    "        '2021-12-18 20:21:13', '2021-12-02 21:47:24', '2021-11-06 11:52:18', \n",
    "        '2021-10-25 20:14:55', '2021-10-10 21:30:11', '2021-08-20 17:05:08', \n",
    "        '2021-08-01 20:42:26', '2021-06-30 20:30:26', '2021-06-02 19:00:13', \n",
    "        '2021-05-16 09:33:32', '2021-05-14 13:43:26', '2021-04-26 08:01:27', \n",
    "        '2021-04-04 08:42:04', '2021-04-04 06:31:31', '2020-12-01 17:07:22', \n",
    "        '2020-11-29 17:12:58'\n",
    "    ],\n",
    "    'likes': [\n",
    "        9, 5, 1, 2, 12, 1, 5, 15, 1, 2, 10, 7, 15, 16, 3, 21, 3, 5, 12, 1, \n",
    "        4, 20, 18, 3, 1, 11, 1, 6\n",
    "    ]\n",
    "}"
   ]
  },
  {
   "cell_type": "code",
   "execution_count": 9,
   "id": "e0ce9ecf-9945-445e-b463-6a5beacf627e",
   "metadata": {},
   "outputs": [],
   "source": [
    "df = pd.DataFrame(data)"
   ]
  },
  {
   "cell_type": "code",
   "execution_count": 10,
   "id": "38b05d95-ce96-4675-9b57-23751f6609f6",
   "metadata": {},
   "outputs": [],
   "source": [
    "df['date'] = pd.to_datetime(df['date'])"
   ]
  },
  {
   "cell_type": "code",
   "execution_count": 11,
   "id": "3a0b6be1-2f49-4f09-9f12-7134496cfcc1",
   "metadata": {},
   "outputs": [
    {
     "data": {
      "text/html": [
       "<div>\n",
       "<style scoped>\n",
       "    .dataframe tbody tr th:only-of-type {\n",
       "        vertical-align: middle;\n",
       "    }\n",
       "\n",
       "    .dataframe tbody tr th {\n",
       "        vertical-align: top;\n",
       "    }\n",
       "\n",
       "    .dataframe thead th {\n",
       "        text-align: right;\n",
       "    }\n",
       "</style>\n",
       "<table border=\"1\" class=\"dataframe\">\n",
       "  <thead>\n",
       "    <tr style=\"text-align: right;\">\n",
       "      <th></th>\n",
       "      <th>date</th>\n",
       "      <th>likes</th>\n",
       "    </tr>\n",
       "  </thead>\n",
       "  <tbody>\n",
       "    <tr>\n",
       "      <th>0</th>\n",
       "      <td>2023-09-24 19:55:55</td>\n",
       "      <td>9</td>\n",
       "    </tr>\n",
       "    <tr>\n",
       "      <th>1</th>\n",
       "      <td>2024-09-16 13:38:04</td>\n",
       "      <td>5</td>\n",
       "    </tr>\n",
       "    <tr>\n",
       "      <th>2</th>\n",
       "      <td>2023-03-09 01:25:17</td>\n",
       "      <td>1</td>\n",
       "    </tr>\n",
       "    <tr>\n",
       "      <th>3</th>\n",
       "      <td>2022-10-24 15:40:21</td>\n",
       "      <td>2</td>\n",
       "    </tr>\n",
       "    <tr>\n",
       "      <th>4</th>\n",
       "      <td>2022-08-03 16:02:05</td>\n",
       "      <td>12</td>\n",
       "    </tr>\n",
       "    <tr>\n",
       "      <th>5</th>\n",
       "      <td>2022-05-11 23:30:51</td>\n",
       "      <td>1</td>\n",
       "    </tr>\n",
       "    <tr>\n",
       "      <th>6</th>\n",
       "      <td>2022-05-07 19:08:08</td>\n",
       "      <td>5</td>\n",
       "    </tr>\n",
       "    <tr>\n",
       "      <th>7</th>\n",
       "      <td>2022-01-25 16:50:21</td>\n",
       "      <td>15</td>\n",
       "    </tr>\n",
       "    <tr>\n",
       "      <th>8</th>\n",
       "      <td>2022-01-24 21:50:50</td>\n",
       "      <td>1</td>\n",
       "    </tr>\n",
       "    <tr>\n",
       "      <th>9</th>\n",
       "      <td>2022-01-16 22:41:07</td>\n",
       "      <td>2</td>\n",
       "    </tr>\n",
       "    <tr>\n",
       "      <th>10</th>\n",
       "      <td>2022-01-16 00:46:57</td>\n",
       "      <td>10</td>\n",
       "    </tr>\n",
       "    <tr>\n",
       "      <th>11</th>\n",
       "      <td>2021-12-30 21:29:34</td>\n",
       "      <td>7</td>\n",
       "    </tr>\n",
       "    <tr>\n",
       "      <th>12</th>\n",
       "      <td>2021-12-18 20:21:13</td>\n",
       "      <td>15</td>\n",
       "    </tr>\n",
       "    <tr>\n",
       "      <th>13</th>\n",
       "      <td>2021-12-02 21:47:24</td>\n",
       "      <td>16</td>\n",
       "    </tr>\n",
       "    <tr>\n",
       "      <th>14</th>\n",
       "      <td>2021-11-06 11:52:18</td>\n",
       "      <td>3</td>\n",
       "    </tr>\n",
       "    <tr>\n",
       "      <th>15</th>\n",
       "      <td>2021-10-25 20:14:55</td>\n",
       "      <td>21</td>\n",
       "    </tr>\n",
       "    <tr>\n",
       "      <th>16</th>\n",
       "      <td>2021-10-10 21:30:11</td>\n",
       "      <td>3</td>\n",
       "    </tr>\n",
       "    <tr>\n",
       "      <th>17</th>\n",
       "      <td>2021-08-20 17:05:08</td>\n",
       "      <td>5</td>\n",
       "    </tr>\n",
       "    <tr>\n",
       "      <th>18</th>\n",
       "      <td>2021-08-01 20:42:26</td>\n",
       "      <td>12</td>\n",
       "    </tr>\n",
       "    <tr>\n",
       "      <th>19</th>\n",
       "      <td>2021-06-30 20:30:26</td>\n",
       "      <td>1</td>\n",
       "    </tr>\n",
       "    <tr>\n",
       "      <th>20</th>\n",
       "      <td>2021-06-02 19:00:13</td>\n",
       "      <td>4</td>\n",
       "    </tr>\n",
       "    <tr>\n",
       "      <th>21</th>\n",
       "      <td>2021-05-16 09:33:32</td>\n",
       "      <td>20</td>\n",
       "    </tr>\n",
       "    <tr>\n",
       "      <th>22</th>\n",
       "      <td>2021-05-14 13:43:26</td>\n",
       "      <td>18</td>\n",
       "    </tr>\n",
       "    <tr>\n",
       "      <th>23</th>\n",
       "      <td>2021-04-26 08:01:27</td>\n",
       "      <td>3</td>\n",
       "    </tr>\n",
       "    <tr>\n",
       "      <th>24</th>\n",
       "      <td>2021-04-04 08:42:04</td>\n",
       "      <td>1</td>\n",
       "    </tr>\n",
       "    <tr>\n",
       "      <th>25</th>\n",
       "      <td>2021-04-04 06:31:31</td>\n",
       "      <td>11</td>\n",
       "    </tr>\n",
       "    <tr>\n",
       "      <th>26</th>\n",
       "      <td>2020-12-01 17:07:22</td>\n",
       "      <td>1</td>\n",
       "    </tr>\n",
       "    <tr>\n",
       "      <th>27</th>\n",
       "      <td>2020-11-29 17:12:58</td>\n",
       "      <td>6</td>\n",
       "    </tr>\n",
       "  </tbody>\n",
       "</table>\n",
       "</div>"
      ],
      "text/plain": [
       "                  date  likes\n",
       "0  2023-09-24 19:55:55      9\n",
       "1  2024-09-16 13:38:04      5\n",
       "2  2023-03-09 01:25:17      1\n",
       "3  2022-10-24 15:40:21      2\n",
       "4  2022-08-03 16:02:05     12\n",
       "5  2022-05-11 23:30:51      1\n",
       "6  2022-05-07 19:08:08      5\n",
       "7  2022-01-25 16:50:21     15\n",
       "8  2022-01-24 21:50:50      1\n",
       "9  2022-01-16 22:41:07      2\n",
       "10 2022-01-16 00:46:57     10\n",
       "11 2021-12-30 21:29:34      7\n",
       "12 2021-12-18 20:21:13     15\n",
       "13 2021-12-02 21:47:24     16\n",
       "14 2021-11-06 11:52:18      3\n",
       "15 2021-10-25 20:14:55     21\n",
       "16 2021-10-10 21:30:11      3\n",
       "17 2021-08-20 17:05:08      5\n",
       "18 2021-08-01 20:42:26     12\n",
       "19 2021-06-30 20:30:26      1\n",
       "20 2021-06-02 19:00:13      4\n",
       "21 2021-05-16 09:33:32     20\n",
       "22 2021-05-14 13:43:26     18\n",
       "23 2021-04-26 08:01:27      3\n",
       "24 2021-04-04 08:42:04      1\n",
       "25 2021-04-04 06:31:31     11\n",
       "26 2020-12-01 17:07:22      1\n",
       "27 2020-11-29 17:12:58      6"
      ]
     },
     "execution_count": 11,
     "metadata": {},
     "output_type": "execute_result"
    }
   ],
   "source": [
    "df"
   ]
  },
  {
   "cell_type": "code",
   "execution_count": null,
   "id": "4295f874-93b6-4224-ba10-a1098d07d348",
   "metadata": {},
   "outputs": [],
   "source": []
  },
  {
   "cell_type": "code",
   "execution_count": 12,
   "id": "c05ae38c-7439-4367-b92c-44b97895f9c3",
   "metadata": {},
   "outputs": [],
   "source": [
    "# Подключаюсь к базе данных SQLite в памяти.\n",
    "conn = sqlite3.connect(':memory:')"
   ]
  },
  {
   "cell_type": "code",
   "execution_count": 13,
   "id": "f6f9c3ea-cace-40b0-9569-5448872ae5b3",
   "metadata": {},
   "outputs": [
    {
     "data": {
      "text/plain": [
       "28"
      ]
     },
     "execution_count": 13,
     "metadata": {},
     "output_type": "execute_result"
    }
   ],
   "source": [
    "# Сохраняю DataFrame в таблицу SQLite.\n",
    "df.to_sql('Like', conn, index=False, if_exists='replace')"
   ]
  },
  {
   "cell_type": "code",
   "execution_count": null,
   "id": "d3c23cc6-ca09-48a7-99ec-36e26a727529",
   "metadata": {},
   "outputs": [],
   "source": []
  },
  {
   "cell_type": "markdown",
   "id": "7b26247a-f3c3-4753-80c2-e39332ad5a91",
   "metadata": {},
   "source": [
    "# Влияние времени суток публикации на количество лайков"
   ]
  },
  {
   "cell_type": "markdown",
   "id": "633a863d-3325-4cc0-8f13-28bbedeebbfa",
   "metadata": {},
   "source": [
    "Предполагаю нулевую гипотезу о том, что среднее количество лайков не отличается в зависимости от времени суток."
   ]
  },
  {
   "cell_type": "code",
   "execution_count": 14,
   "id": "cda55f17-4aed-4786-9850-b96248df6f64",
   "metadata": {},
   "outputs": [],
   "source": [
    "# С помощью strftime нахожу часы (%H) среди дат в колонке date \n",
    "# и подразделяю их на равные промежутки суток для ночи, утра, дня и вечера где\n",
    "# с 0 до 6 часов — ночь \n",
    "# с 6 до 12 часов — утро \n",
    "# с 12 до 18 часов — день \n",
    "# с 18 до 24 часов — вечер\n",
    "\n",
    "parts_of_the_day = '''\n",
    "SELECT date,\n",
    "       likes,\n",
    "       strftime('%H', date) AS hour_of_day, \n",
    "       CASE \n",
    "           WHEN strftime('%H', date) BETWEEN '00' AND '05' THEN 'Ночь'  \n",
    "           WHEN strftime('%H', date) BETWEEN '06' AND '11' THEN 'Утро' \n",
    "           WHEN strftime('%H', date) BETWEEN '12' AND '17' THEN 'День' \n",
    "           WHEN strftime('%H', date) BETWEEN '18' AND '23' THEN 'Вечер' \n",
    "       END AS time_of_day\n",
    "FROM Like\n",
    "ORDER BY hour_of_day;\n",
    "'''"
   ]
  },
  {
   "cell_type": "code",
   "execution_count": 15,
   "id": "f190db9d-9a8e-4fa9-8623-1b1f458ac911",
   "metadata": {},
   "outputs": [],
   "source": [
    "# Возвращаю sql запрос в виде DataFrame.\n",
    "df_with_hours = pd.read_sql_query(parts_of_the_day, conn)"
   ]
  },
  {
   "cell_type": "code",
   "execution_count": 16,
   "id": "dcf1a214-ec34-4fa4-822d-d7c6b6529046",
   "metadata": {},
   "outputs": [
    {
     "data": {
      "text/html": [
       "<div>\n",
       "<style scoped>\n",
       "    .dataframe tbody tr th:only-of-type {\n",
       "        vertical-align: middle;\n",
       "    }\n",
       "\n",
       "    .dataframe tbody tr th {\n",
       "        vertical-align: top;\n",
       "    }\n",
       "\n",
       "    .dataframe thead th {\n",
       "        text-align: right;\n",
       "    }\n",
       "</style>\n",
       "<table border=\"1\" class=\"dataframe\">\n",
       "  <thead>\n",
       "    <tr style=\"text-align: right;\">\n",
       "      <th></th>\n",
       "      <th>date</th>\n",
       "      <th>likes</th>\n",
       "      <th>hour_of_day</th>\n",
       "      <th>time_of_day</th>\n",
       "    </tr>\n",
       "  </thead>\n",
       "  <tbody>\n",
       "    <tr>\n",
       "      <th>0</th>\n",
       "      <td>2022-01-16 00:46:57</td>\n",
       "      <td>10</td>\n",
       "      <td>00</td>\n",
       "      <td>Ночь</td>\n",
       "    </tr>\n",
       "    <tr>\n",
       "      <th>1</th>\n",
       "      <td>2023-03-09 01:25:17</td>\n",
       "      <td>1</td>\n",
       "      <td>01</td>\n",
       "      <td>Ночь</td>\n",
       "    </tr>\n",
       "    <tr>\n",
       "      <th>2</th>\n",
       "      <td>2021-04-04 06:31:31</td>\n",
       "      <td>11</td>\n",
       "      <td>06</td>\n",
       "      <td>Утро</td>\n",
       "    </tr>\n",
       "    <tr>\n",
       "      <th>3</th>\n",
       "      <td>2021-04-26 08:01:27</td>\n",
       "      <td>3</td>\n",
       "      <td>08</td>\n",
       "      <td>Утро</td>\n",
       "    </tr>\n",
       "    <tr>\n",
       "      <th>4</th>\n",
       "      <td>2021-04-04 08:42:04</td>\n",
       "      <td>1</td>\n",
       "      <td>08</td>\n",
       "      <td>Утро</td>\n",
       "    </tr>\n",
       "    <tr>\n",
       "      <th>5</th>\n",
       "      <td>2021-05-16 09:33:32</td>\n",
       "      <td>20</td>\n",
       "      <td>09</td>\n",
       "      <td>Утро</td>\n",
       "    </tr>\n",
       "    <tr>\n",
       "      <th>6</th>\n",
       "      <td>2021-11-06 11:52:18</td>\n",
       "      <td>3</td>\n",
       "      <td>11</td>\n",
       "      <td>Утро</td>\n",
       "    </tr>\n",
       "    <tr>\n",
       "      <th>7</th>\n",
       "      <td>2024-09-16 13:38:04</td>\n",
       "      <td>5</td>\n",
       "      <td>13</td>\n",
       "      <td>День</td>\n",
       "    </tr>\n",
       "    <tr>\n",
       "      <th>8</th>\n",
       "      <td>2021-05-14 13:43:26</td>\n",
       "      <td>18</td>\n",
       "      <td>13</td>\n",
       "      <td>День</td>\n",
       "    </tr>\n",
       "    <tr>\n",
       "      <th>9</th>\n",
       "      <td>2022-10-24 15:40:21</td>\n",
       "      <td>2</td>\n",
       "      <td>15</td>\n",
       "      <td>День</td>\n",
       "    </tr>\n",
       "    <tr>\n",
       "      <th>10</th>\n",
       "      <td>2022-08-03 16:02:05</td>\n",
       "      <td>12</td>\n",
       "      <td>16</td>\n",
       "      <td>День</td>\n",
       "    </tr>\n",
       "    <tr>\n",
       "      <th>11</th>\n",
       "      <td>2022-01-25 16:50:21</td>\n",
       "      <td>15</td>\n",
       "      <td>16</td>\n",
       "      <td>День</td>\n",
       "    </tr>\n",
       "    <tr>\n",
       "      <th>12</th>\n",
       "      <td>2021-08-20 17:05:08</td>\n",
       "      <td>5</td>\n",
       "      <td>17</td>\n",
       "      <td>День</td>\n",
       "    </tr>\n",
       "    <tr>\n",
       "      <th>13</th>\n",
       "      <td>2020-12-01 17:07:22</td>\n",
       "      <td>1</td>\n",
       "      <td>17</td>\n",
       "      <td>День</td>\n",
       "    </tr>\n",
       "    <tr>\n",
       "      <th>14</th>\n",
       "      <td>2020-11-29 17:12:58</td>\n",
       "      <td>6</td>\n",
       "      <td>17</td>\n",
       "      <td>День</td>\n",
       "    </tr>\n",
       "    <tr>\n",
       "      <th>15</th>\n",
       "      <td>2023-09-24 19:55:55</td>\n",
       "      <td>9</td>\n",
       "      <td>19</td>\n",
       "      <td>Вечер</td>\n",
       "    </tr>\n",
       "    <tr>\n",
       "      <th>16</th>\n",
       "      <td>2022-05-07 19:08:08</td>\n",
       "      <td>5</td>\n",
       "      <td>19</td>\n",
       "      <td>Вечер</td>\n",
       "    </tr>\n",
       "    <tr>\n",
       "      <th>17</th>\n",
       "      <td>2021-06-02 19:00:13</td>\n",
       "      <td>4</td>\n",
       "      <td>19</td>\n",
       "      <td>Вечер</td>\n",
       "    </tr>\n",
       "    <tr>\n",
       "      <th>18</th>\n",
       "      <td>2021-12-18 20:21:13</td>\n",
       "      <td>15</td>\n",
       "      <td>20</td>\n",
       "      <td>Вечер</td>\n",
       "    </tr>\n",
       "    <tr>\n",
       "      <th>19</th>\n",
       "      <td>2021-10-25 20:14:55</td>\n",
       "      <td>21</td>\n",
       "      <td>20</td>\n",
       "      <td>Вечер</td>\n",
       "    </tr>\n",
       "    <tr>\n",
       "      <th>20</th>\n",
       "      <td>2021-08-01 20:42:26</td>\n",
       "      <td>12</td>\n",
       "      <td>20</td>\n",
       "      <td>Вечер</td>\n",
       "    </tr>\n",
       "    <tr>\n",
       "      <th>21</th>\n",
       "      <td>2021-06-30 20:30:26</td>\n",
       "      <td>1</td>\n",
       "      <td>20</td>\n",
       "      <td>Вечер</td>\n",
       "    </tr>\n",
       "    <tr>\n",
       "      <th>22</th>\n",
       "      <td>2022-01-24 21:50:50</td>\n",
       "      <td>1</td>\n",
       "      <td>21</td>\n",
       "      <td>Вечер</td>\n",
       "    </tr>\n",
       "    <tr>\n",
       "      <th>23</th>\n",
       "      <td>2021-12-30 21:29:34</td>\n",
       "      <td>7</td>\n",
       "      <td>21</td>\n",
       "      <td>Вечер</td>\n",
       "    </tr>\n",
       "    <tr>\n",
       "      <th>24</th>\n",
       "      <td>2021-12-02 21:47:24</td>\n",
       "      <td>16</td>\n",
       "      <td>21</td>\n",
       "      <td>Вечер</td>\n",
       "    </tr>\n",
       "    <tr>\n",
       "      <th>25</th>\n",
       "      <td>2021-10-10 21:30:11</td>\n",
       "      <td>3</td>\n",
       "      <td>21</td>\n",
       "      <td>Вечер</td>\n",
       "    </tr>\n",
       "    <tr>\n",
       "      <th>26</th>\n",
       "      <td>2022-01-16 22:41:07</td>\n",
       "      <td>2</td>\n",
       "      <td>22</td>\n",
       "      <td>Вечер</td>\n",
       "    </tr>\n",
       "    <tr>\n",
       "      <th>27</th>\n",
       "      <td>2022-05-11 23:30:51</td>\n",
       "      <td>1</td>\n",
       "      <td>23</td>\n",
       "      <td>Вечер</td>\n",
       "    </tr>\n",
       "  </tbody>\n",
       "</table>\n",
       "</div>"
      ],
      "text/plain": [
       "                   date  likes hour_of_day time_of_day\n",
       "0   2022-01-16 00:46:57     10          00        Ночь\n",
       "1   2023-03-09 01:25:17      1          01        Ночь\n",
       "2   2021-04-04 06:31:31     11          06        Утро\n",
       "3   2021-04-26 08:01:27      3          08        Утро\n",
       "4   2021-04-04 08:42:04      1          08        Утро\n",
       "5   2021-05-16 09:33:32     20          09        Утро\n",
       "6   2021-11-06 11:52:18      3          11        Утро\n",
       "7   2024-09-16 13:38:04      5          13        День\n",
       "8   2021-05-14 13:43:26     18          13        День\n",
       "9   2022-10-24 15:40:21      2          15        День\n",
       "10  2022-08-03 16:02:05     12          16        День\n",
       "11  2022-01-25 16:50:21     15          16        День\n",
       "12  2021-08-20 17:05:08      5          17        День\n",
       "13  2020-12-01 17:07:22      1          17        День\n",
       "14  2020-11-29 17:12:58      6          17        День\n",
       "15  2023-09-24 19:55:55      9          19       Вечер\n",
       "16  2022-05-07 19:08:08      5          19       Вечер\n",
       "17  2021-06-02 19:00:13      4          19       Вечер\n",
       "18  2021-12-18 20:21:13     15          20       Вечер\n",
       "19  2021-10-25 20:14:55     21          20       Вечер\n",
       "20  2021-08-01 20:42:26     12          20       Вечер\n",
       "21  2021-06-30 20:30:26      1          20       Вечер\n",
       "22  2022-01-24 21:50:50      1          21       Вечер\n",
       "23  2021-12-30 21:29:34      7          21       Вечер\n",
       "24  2021-12-02 21:47:24     16          21       Вечер\n",
       "25  2021-10-10 21:30:11      3          21       Вечер\n",
       "26  2022-01-16 22:41:07      2          22       Вечер\n",
       "27  2022-05-11 23:30:51      1          23       Вечер"
      ]
     },
     "execution_count": 16,
     "metadata": {},
     "output_type": "execute_result"
    }
   ],
   "source": [
    "df_with_hours"
   ]
  },
  {
   "cell_type": "code",
   "execution_count": 17,
   "id": "f1f37de8-d76b-407d-b73c-3ea5adc93ffc",
   "metadata": {},
   "outputs": [
    {
     "data": {
      "image/png": "[encoded data removed]",
      "text/plain": [
       "<Figure size 1600x800 with 1 Axes>"
      ]
     },
     "metadata": {},
     "output_type": "display_data"
    }
   ],
   "source": [
    "# С помощью matplotlib.pyplot и seaborn визуализирую график соотношения времени суток и количества лайков на пост.\n",
    "plt.figure(figsize=(16,8)) # Устанавливаю размер графика.\n",
    "sns.set_theme(style='whitegrid') # Устанавливаю стиль с белым фоном и сеткой для графика.\n",
    "sns.set_context('paper') # Настраиваю контекст для графика.\n",
    "# Устанавливаю различные цвета для ночи, утра, дня и вечера, которые выражают их время суток.\n",
    "palette = {\n",
    "    'Ночь': '#1f77b4',       # Синий\n",
    "    'Утро': '#ff7f0e',     # Оранжевый\n",
    "    'День': '#2ca02c',   # Зеленый\n",
    "    'Вечер': '#d62728'      # Красный\n",
    "}\n",
    "# Создаю боксплот с временем суток по оси x и количеством лайков по оси y.\n",
    "ax = sns.boxplot(x='time_of_day', y='likes', data=df_with_hours, hue='time_of_day', palette=palette, legend=False) \n",
    "# Даю внятные названия осям графика и устанавливаю размер надписи.\n",
    "ax.set_title('\\nГрафик соотношения времени суток и количества лайков на пост\\n', fontsize=16) \n",
    "ax.set_xlabel('\\nВремя суток', fontsize=16) \n",
    "ax.set_ylabel('Количество лайков\\n', fontsize=16) \n",
    "# Отображаю сетку на графике и удаляю границы графика.\n",
    "ax.grid(True) \n",
    "sns.despine() \n",
    "# Устанавливаю размер меток для осей.\n",
    "plt.xticks(fontsize=16) \n",
    "plt.yticks(fontsize=16) \n",
    "\n",
    "plt.show() # Показ боксплота."
   ]
  },
  {
   "cell_type": "code",
   "execution_count": 18,
   "id": "c8c5c520-a9a4-4beb-8373-a9e7e3d4dbbb",
   "metadata": {},
   "outputs": [],
   "source": [
    "# Вывожу описание числовой колонки колличества лайков под постом \"likes\", сгруппировав по дням \"time_of_day\".\n",
    "stats_df_with_hours = df_with_hours.groupby('time_of_day')['likes'].describe()"
   ]
  },
  {
   "cell_type": "code",
   "execution_count": 19,
   "id": "aac452ed-e034-4667-8910-7a6fe578532a",
   "metadata": {},
   "outputs": [],
   "source": [
    "# С помощью apply-функции и квантилей нахожу межквартильный интервал (IQR).\n",
    "iqr_df_with_hours = df_with_hours.groupby('time_of_day')['likes'].apply(lambda x: x.quantile(0.75) - x.quantile(0.25))"
   ]
  },
  {
   "cell_type": "code",
   "execution_count": 20,
   "id": "7e9c1bce-a710-44c3-a571-e4b5fa4469b5",
   "metadata": {},
   "outputs": [
    {
     "name": "stdout",
     "output_type": "stream",
     "text": [
      "Статистики:\n",
      "             count      mean       std  min   25%  50%    75%   max\n",
      "time_of_day                                                        \n",
      "Вечер         13.0  7.461538  6.640976  1.0  2.00  5.0  12.00  21.0\n",
      "День           8.0  8.000000  6.233550  1.0  4.25  5.5  12.75  18.0\n",
      "Ночь           2.0  5.500000  6.363961  1.0  3.25  5.5   7.75  10.0\n",
      "Утро           5.0  7.600000  7.924645  1.0  3.00  3.0  11.00  20.0\n"
     ]
    }
   ],
   "source": [
    "print(\"Статистики:\")\n",
    "print(stats_df_with_hours) "
   ]
  },
  {
   "cell_type": "code",
   "execution_count": 21,
   "id": "5bb12339-b93f-48a5-a6e7-c1ce7ffeb64b",
   "metadata": {},
   "outputs": [
    {
     "name": "stdout",
     "output_type": "stream",
     "text": [
      "Межквартильный интервал (IQR):\n",
      "time_of_day\n",
      "Вечер    10.0\n",
      "День      8.5\n",
      "Ночь      4.5\n",
      "Утро      8.0\n",
      "Name: likes, dtype: float64\n"
     ]
    }
   ],
   "source": [
    "print(\"Межквартильный интервал (IQR):\")\n",
    "print(iqr_df_with_hours)"
   ]
  },
  {
   "cell_type": "markdown",
   "id": "626f555f-2b0c-43b9-bc15-d2ea5e85329d",
   "metadata": {},
   "source": [
    "### Интерпретация:\n",
    "Из графика и вывода статистики видно, что медианные и межквартильные интервалы (представленные ящиками) различаются в зависимости от времени суток. "
   ]
  },
  {
   "cell_type": "markdown",
   "id": "441acfa7-e6f8-4f11-9066-8ea3f83e5f67",
   "metadata": {},
   "source": [
    "#### Характеристика медиан:\n",
    "\n",
    "Ночь имеет медиану 5.5, что идентично медиане Дня, и выше медианы Утра (3.0). Это указывает на то, что количество лайков в Ночь и День в среднем равно или выше, чем в Утро.\n",
    "\n",
    "Вечер имеет медиану 5.0, что немного ниже, чем у Ночи и Дня, но ближе к этим значениям, чем к Утру."
   ]
  },
  {
   "cell_type": "markdown",
   "id": "6ff67ad7-c2fb-491a-bfe0-d55c22900a51",
   "metadata": {},
   "source": [
    "#### Характеристика среднего количества лайков:\n",
    "\n",
    "День имеет наивысшее среднее количество лайков (7.88), что свидетельствует о наибольшей активности пользователей в это время суток.\n",
    "\n",
    "Утро и Вечер имеют схожие средние значения (7.60 и 7.46 соответственно), что указывает на более низкий уровень активности.\n",
    "\n",
    "Ночь имеет наименьшее среднее количество лайков (5.50), что указывает на наименьшую активности в это время суток."
   ]
  },
  {
   "cell_type": "markdown",
   "id": "8fdb700d-a1ef-41ce-a0b8-df6aaa9c502a",
   "metadata": {},
   "source": [
    "#### Характеристика межквартильного интервала (IQR):\n",
    "\n",
    "Вечер имеет наибольший IQR (10.00), что говорит о большом разбросе значений лайков. Это означает, что количество лайков в Вечер варьируется более широко, чем в других периодах.\n",
    "\n",
    "Утро и День имеют также значительный IQR (8.00 и 8.75 соответственно), указывая на заметный разброс, но не такой большой, как в Вечер.\n",
    "\n",
    "Ночь имеет наименьший IQR (4.50), что указывает на меньший разброс значений лайков в это время суток."
   ]
  },
  {
   "cell_type": "markdown",
   "id": "fefdc20a-32bd-49f9-bcc4-5d67d0d7e131",
   "metadata": {},
   "source": [
    "### Предварительный вывод:"
   ]
  },
  {
   "attachments": {},
   "cell_type": "markdown",
   "id": "28c02f4f-9e04-451c-8abb-8f6d63a636ba",
   "metadata": {},
   "source": [
    "День показывает наибольшую среднюю активность пользователей и имеет значительный разброс в значениях лайков. Это может быть связано с тем, что дневное время более активно для публикаций и взаимодействия.\n",
    "\n",
    "Вечер имеет высокий разброс лайков, несмотря на несколько меньшую среднюю активность по сравнению с Днём. Это может указывать на чуть меньший уровень вовлечённости пользователей в Вечер.\n",
    "\n",
    "Утро имеет средний уровень лайков с заметным разбросом, что может говорить о более непредсказуемой активности в это время.\n",
    "\n",
    "Ночь имеет наименьшее количество лайков и наименьший разброс, что может указывать на низкую активность пользователей в это время суток."
   ]
  },
  {
   "cell_type": "markdown",
   "id": "73135d4b-8e65-4aa2-8fa5-c4d91774c875",
   "metadata": {},
   "source": [
    "Однако, конечный вывод о влиянии времени суток на количество лайков за пост требует дополнительного анализа и проверки гипотез."
   ]
  },
  {
   "cell_type": "markdown",
   "id": "50ab6717-88eb-4599-bc81-d5d49b0b7e0e",
   "metadata": {},
   "source": [
    "### Провожу однофакторный дисперсионный анализ (ANOVA), чтобы узнать p-значение"
   ]
  },
  {
   "cell_type": "code",
   "execution_count": 22,
   "id": "e7aedc4a-2ded-417a-b749-31a4f145a0d8",
   "metadata": {},
   "outputs": [],
   "source": [
    "# Группирую данные по времени суток.\n",
    "grouped_data = df_with_hours.groupby('time_of_day', observed=False)['likes'].apply(list)"
   ]
  },
  {
   "cell_type": "code",
   "execution_count": 23,
   "id": "3b4ffb60-3cae-4c92-9e62-e78d1e4f992a",
   "metadata": {},
   "outputs": [
    {
     "name": "stdout",
     "output_type": "stream",
     "text": [
      "Результаты однофакторного дисперсионного анализа (ANOVA) имеют следующие значения:\n",
      "F-статистика: 0.07\n",
      "p-значение: 0.97\n"
     ]
    }
   ],
   "source": [
    "# Провожу однофакторный дисперсионный анализ (ANOVA).\n",
    "f_stat, p_value = stats.f_oneway(*grouped_data)\n",
    "print(\"Результаты однофакторного дисперсионного анализа (ANOVA) имеют следующие значения:\")\n",
    "print(f\"F-статистика: {f_stat:.2f}\")\n",
    "print(f\"p-значение: {p_value:.2f}\")"
   ]
  },
  {
   "cell_type": "markdown",
   "id": "4394c6da-83e5-4363-9ce3-8afbef6a94f2",
   "metadata": {},
   "source": [
    "Поскольку p-значение значительно выше стандартного уровня значимости (0.05), мы не можем отвергнуть нулевую гипотезу о том, что среднее количество лайков не отличается в зависимости от времени суток."
   ]
  },
  {
   "cell_type": "markdown",
   "id": "ba413467-1105-4726-b47a-9a460030b115",
   "metadata": {},
   "source": [
    "## Вывод: \n",
    "На основе статистического анализа нельзя утверждать, что время суток оказывает значительное влияние на количество лайков за пост. Различия в среднем количестве лайков в разные периоды времени статистически не значимы. ​"
   ]
  },
  {
   "cell_type": "code",
   "execution_count": null,
   "id": "32d7cf6b-14db-42a6-a07d-ff1bb23b697d",
   "metadata": {},
   "outputs": [],
   "source": []
  },
  {
   "cell_type": "markdown",
   "id": "dbcc578d-16c9-4445-b0c1-857bc3a70692",
   "metadata": {},
   "source": [
    "# Влияние дня недели"
   ]
  },
  {
   "cell_type": "markdown",
   "id": "89ab9194-fb9e-4819-bae0-cfc8be4731e5",
   "metadata": {},
   "source": [
    "Предполагаю нулевую гипотезу о том, что среднее количество лайков не отличается в зависимости от дня недели."
   ]
  },
  {
   "cell_type": "code",
   "execution_count": 24,
   "id": "f937c832-ad45-4e88-8dd6-c85926c28797",
   "metadata": {},
   "outputs": [],
   "source": [
    "# Нахожу из даты (date) порядковый день недели (day_of_week) и количество лайков (likes).\n",
    "query = '''\n",
    "    SELECT date,\n",
    "           strftime('%w', date) AS day_of_week, \n",
    "           likes\n",
    "    FROM Like\n",
    "'''"
   ]
  },
  {
   "cell_type": "code",
   "execution_count": 25,
   "id": "433f42ee-e293-42e5-a9fb-945106a504f6",
   "metadata": {},
   "outputs": [],
   "source": [
    "df_with_weekday = pd.read_sql_query(query, conn)"
   ]
  },
  {
   "cell_type": "code",
   "execution_count": 26,
   "id": "fa2e0956-3ea3-472a-85ad-fa9d283d97a5",
   "metadata": {},
   "outputs": [],
   "source": [
    "# Явно обозначаю название дней недели в соответствии с порядком дней, используемым в России.\n",
    "df_sorted = \"\"\"\n",
    "SELECT date,\n",
    "       likes,\n",
    "       CASE strftime('%w', date)\n",
    "           WHEN '1' THEN 'Понедельник'\n",
    "           WHEN '2' THEN 'Вторник'\n",
    "           WHEN '3' THEN 'Среда'\n",
    "           WHEN '4' THEN 'Четверг'\n",
    "           WHEN '5' THEN 'Пятница'\n",
    "           WHEN '6' THEN 'Суббота'\n",
    "           WHEN '0' THEN 'Воскресенье'\n",
    "       END AS day_of_week,\n",
    "       CASE strftime('%w', date)\n",
    "           WHEN '1' THEN 1 \n",
    "           WHEN '2' THEN 2 \n",
    "           WHEN '3' THEN 3  \n",
    "           WHEN '4' THEN 4  \n",
    "           WHEN '5' THEN 5 \n",
    "           WHEN '6' THEN 6  \n",
    "           WHEN '0' THEN 7 \n",
    "       END AS day_order\n",
    "FROM Like\n",
    "ORDER BY day_order;\n",
    "\"\"\""
   ]
  },
  {
   "cell_type": "code",
   "execution_count": 27,
   "id": "63748cb3-51df-4174-8187-32d1979710b7",
   "metadata": {},
   "outputs": [],
   "source": [
    "df_sorted_by_day_of_week = pd.read_sql_query(df_sorted, conn)"
   ]
  },
  {
   "cell_type": "code",
   "execution_count": 28,
   "id": "c58dd2bf-1b20-4659-9a55-297cd9d984d0",
   "metadata": {},
   "outputs": [
    {
     "data": {
      "text/html": [
       "<div>\n",
       "<style scoped>\n",
       "    .dataframe tbody tr th:only-of-type {\n",
       "        vertical-align: middle;\n",
       "    }\n",
       "\n",
       "    .dataframe tbody tr th {\n",
       "        vertical-align: top;\n",
       "    }\n",
       "\n",
       "    .dataframe thead th {\n",
       "        text-align: right;\n",
       "    }\n",
       "</style>\n",
       "<table border=\"1\" class=\"dataframe\">\n",
       "  <thead>\n",
       "    <tr style=\"text-align: right;\">\n",
       "      <th></th>\n",
       "      <th>date</th>\n",
       "      <th>likes</th>\n",
       "      <th>day_of_week</th>\n",
       "      <th>day_order</th>\n",
       "    </tr>\n",
       "  </thead>\n",
       "  <tbody>\n",
       "    <tr>\n",
       "      <th>0</th>\n",
       "      <td>2024-09-16 13:38:04</td>\n",
       "      <td>5</td>\n",
       "      <td>Понедельник</td>\n",
       "      <td>1</td>\n",
       "    </tr>\n",
       "    <tr>\n",
       "      <th>1</th>\n",
       "      <td>2022-10-24 15:40:21</td>\n",
       "      <td>2</td>\n",
       "      <td>Понедельник</td>\n",
       "      <td>1</td>\n",
       "    </tr>\n",
       "    <tr>\n",
       "      <th>2</th>\n",
       "      <td>2022-01-24 21:50:50</td>\n",
       "      <td>1</td>\n",
       "      <td>Понедельник</td>\n",
       "      <td>1</td>\n",
       "    </tr>\n",
       "    <tr>\n",
       "      <th>3</th>\n",
       "      <td>2021-10-25 20:14:55</td>\n",
       "      <td>21</td>\n",
       "      <td>Понедельник</td>\n",
       "      <td>1</td>\n",
       "    </tr>\n",
       "    <tr>\n",
       "      <th>4</th>\n",
       "      <td>2021-04-26 08:01:27</td>\n",
       "      <td>3</td>\n",
       "      <td>Понедельник</td>\n",
       "      <td>1</td>\n",
       "    </tr>\n",
       "    <tr>\n",
       "      <th>5</th>\n",
       "      <td>2022-01-25 16:50:21</td>\n",
       "      <td>15</td>\n",
       "      <td>Вторник</td>\n",
       "      <td>2</td>\n",
       "    </tr>\n",
       "    <tr>\n",
       "      <th>6</th>\n",
       "      <td>2020-12-01 17:07:22</td>\n",
       "      <td>1</td>\n",
       "      <td>Вторник</td>\n",
       "      <td>2</td>\n",
       "    </tr>\n",
       "    <tr>\n",
       "      <th>7</th>\n",
       "      <td>2022-08-03 16:02:05</td>\n",
       "      <td>12</td>\n",
       "      <td>Среда</td>\n",
       "      <td>3</td>\n",
       "    </tr>\n",
       "    <tr>\n",
       "      <th>8</th>\n",
       "      <td>2022-05-11 23:30:51</td>\n",
       "      <td>1</td>\n",
       "      <td>Среда</td>\n",
       "      <td>3</td>\n",
       "    </tr>\n",
       "    <tr>\n",
       "      <th>9</th>\n",
       "      <td>2021-06-30 20:30:26</td>\n",
       "      <td>1</td>\n",
       "      <td>Среда</td>\n",
       "      <td>3</td>\n",
       "    </tr>\n",
       "    <tr>\n",
       "      <th>10</th>\n",
       "      <td>2021-06-02 19:00:13</td>\n",
       "      <td>4</td>\n",
       "      <td>Среда</td>\n",
       "      <td>3</td>\n",
       "    </tr>\n",
       "    <tr>\n",
       "      <th>11</th>\n",
       "      <td>2023-03-09 01:25:17</td>\n",
       "      <td>1</td>\n",
       "      <td>Четверг</td>\n",
       "      <td>4</td>\n",
       "    </tr>\n",
       "    <tr>\n",
       "      <th>12</th>\n",
       "      <td>2021-12-30 21:29:34</td>\n",
       "      <td>7</td>\n",
       "      <td>Четверг</td>\n",
       "      <td>4</td>\n",
       "    </tr>\n",
       "    <tr>\n",
       "      <th>13</th>\n",
       "      <td>2021-12-02 21:47:24</td>\n",
       "      <td>16</td>\n",
       "      <td>Четверг</td>\n",
       "      <td>4</td>\n",
       "    </tr>\n",
       "    <tr>\n",
       "      <th>14</th>\n",
       "      <td>2021-08-20 17:05:08</td>\n",
       "      <td>5</td>\n",
       "      <td>Пятница</td>\n",
       "      <td>5</td>\n",
       "    </tr>\n",
       "    <tr>\n",
       "      <th>15</th>\n",
       "      <td>2021-05-14 13:43:26</td>\n",
       "      <td>18</td>\n",
       "      <td>Пятница</td>\n",
       "      <td>5</td>\n",
       "    </tr>\n",
       "    <tr>\n",
       "      <th>16</th>\n",
       "      <td>2022-05-07 19:08:08</td>\n",
       "      <td>5</td>\n",
       "      <td>Суббота</td>\n",
       "      <td>6</td>\n",
       "    </tr>\n",
       "    <tr>\n",
       "      <th>17</th>\n",
       "      <td>2021-12-18 20:21:13</td>\n",
       "      <td>15</td>\n",
       "      <td>Суббота</td>\n",
       "      <td>6</td>\n",
       "    </tr>\n",
       "    <tr>\n",
       "      <th>18</th>\n",
       "      <td>2021-11-06 11:52:18</td>\n",
       "      <td>3</td>\n",
       "      <td>Суббота</td>\n",
       "      <td>6</td>\n",
       "    </tr>\n",
       "    <tr>\n",
       "      <th>19</th>\n",
       "      <td>2023-09-24 19:55:55</td>\n",
       "      <td>9</td>\n",
       "      <td>Воскресенье</td>\n",
       "      <td>7</td>\n",
       "    </tr>\n",
       "    <tr>\n",
       "      <th>20</th>\n",
       "      <td>2022-01-16 22:41:07</td>\n",
       "      <td>2</td>\n",
       "      <td>Воскресенье</td>\n",
       "      <td>7</td>\n",
       "    </tr>\n",
       "    <tr>\n",
       "      <th>21</th>\n",
       "      <td>2022-01-16 00:46:57</td>\n",
       "      <td>10</td>\n",
       "      <td>Воскресенье</td>\n",
       "      <td>7</td>\n",
       "    </tr>\n",
       "    <tr>\n",
       "      <th>22</th>\n",
       "      <td>2021-10-10 21:30:11</td>\n",
       "      <td>3</td>\n",
       "      <td>Воскресенье</td>\n",
       "      <td>7</td>\n",
       "    </tr>\n",
       "    <tr>\n",
       "      <th>23</th>\n",
       "      <td>2021-08-01 20:42:26</td>\n",
       "      <td>12</td>\n",
       "      <td>Воскресенье</td>\n",
       "      <td>7</td>\n",
       "    </tr>\n",
       "    <tr>\n",
       "      <th>24</th>\n",
       "      <td>2021-05-16 09:33:32</td>\n",
       "      <td>20</td>\n",
       "      <td>Воскресенье</td>\n",
       "      <td>7</td>\n",
       "    </tr>\n",
       "    <tr>\n",
       "      <th>25</th>\n",
       "      <td>2021-04-04 08:42:04</td>\n",
       "      <td>1</td>\n",
       "      <td>Воскресенье</td>\n",
       "      <td>7</td>\n",
       "    </tr>\n",
       "    <tr>\n",
       "      <th>26</th>\n",
       "      <td>2021-04-04 06:31:31</td>\n",
       "      <td>11</td>\n",
       "      <td>Воскресенье</td>\n",
       "      <td>7</td>\n",
       "    </tr>\n",
       "    <tr>\n",
       "      <th>27</th>\n",
       "      <td>2020-11-29 17:12:58</td>\n",
       "      <td>6</td>\n",
       "      <td>Воскресенье</td>\n",
       "      <td>7</td>\n",
       "    </tr>\n",
       "  </tbody>\n",
       "</table>\n",
       "</div>"
      ],
      "text/plain": [
       "                   date  likes  day_of_week  day_order\n",
       "0   2024-09-16 13:38:04      5  Понедельник          1\n",
       "1   2022-10-24 15:40:21      2  Понедельник          1\n",
       "2   2022-01-24 21:50:50      1  Понедельник          1\n",
       "3   2021-10-25 20:14:55     21  Понедельник          1\n",
       "4   2021-04-26 08:01:27      3  Понедельник          1\n",
       "5   2022-01-25 16:50:21     15      Вторник          2\n",
       "6   2020-12-01 17:07:22      1      Вторник          2\n",
       "7   2022-08-03 16:02:05     12        Среда          3\n",
       "8   2022-05-11 23:30:51      1        Среда          3\n",
       "9   2021-06-30 20:30:26      1        Среда          3\n",
       "10  2021-06-02 19:00:13      4        Среда          3\n",
       "11  2023-03-09 01:25:17      1      Четверг          4\n",
       "12  2021-12-30 21:29:34      7      Четверг          4\n",
       "13  2021-12-02 21:47:24     16      Четверг          4\n",
       "14  2021-08-20 17:05:08      5      Пятница          5\n",
       "15  2021-05-14 13:43:26     18      Пятница          5\n",
       "16  2022-05-07 19:08:08      5      Суббота          6\n",
       "17  2021-12-18 20:21:13     15      Суббота          6\n",
       "18  2021-11-06 11:52:18      3      Суббота          6\n",
       "19  2023-09-24 19:55:55      9  Воскресенье          7\n",
       "20  2022-01-16 22:41:07      2  Воскресенье          7\n",
       "21  2022-01-16 00:46:57     10  Воскресенье          7\n",
       "22  2021-10-10 21:30:11      3  Воскресенье          7\n",
       "23  2021-08-01 20:42:26     12  Воскресенье          7\n",
       "24  2021-05-16 09:33:32     20  Воскресенье          7\n",
       "25  2021-04-04 08:42:04      1  Воскресенье          7\n",
       "26  2021-04-04 06:31:31     11  Воскресенье          7\n",
       "27  2020-11-29 17:12:58      6  Воскресенье          7"
      ]
     },
     "execution_count": 28,
     "metadata": {},
     "output_type": "execute_result"
    }
   ],
   "source": [
    "df_sorted_by_day_of_week"
   ]
  },
  {
   "cell_type": "code",
   "execution_count": 29,
   "id": "90a50a32-e488-4320-bfeb-92cd2dc36083",
   "metadata": {},
   "outputs": [
    {
     "data": {
      "image/png": "[encoded data removed]",
      "text/plain": [
       "<Figure size 1600x800 with 1 Axes>"
      ]
     },
     "metadata": {},
     "output_type": "display_data"
    }
   ],
   "source": [
    "# Визуализирую график соотношения дней недели и колличества лайков за пост.\n",
    "plt.figure(figsize=(16,8))\n",
    "sns.set_theme(style='whitegrid')\n",
    "sns.set_context('paper')\n",
    "ax = sns.boxplot(x='day_of_week', y='likes', data=df_sorted_by_day_of_week)\n",
    "ax.set_title('\\nГрафик соотношения дней недели и колличества лайков за пост\\n', fontsize=16)\n",
    "ax.set_xlabel('\\nДень недели', fontsize=16)\n",
    "ax.set_ylabel('Колличество лайков\\n', fontsize=16)\n",
    "ax.grid(True)\n",
    "sns.despine()\n",
    "\n",
    "plt.xticks(fontsize=16)\n",
    "plt.yticks(fontsize=16)\n",
    "\n",
    "plt.show()"
   ]
  },
  {
   "cell_type": "code",
   "execution_count": 30,
   "id": "f407c765-4609-40e9-812e-9c7c7b98e3b1",
   "metadata": {},
   "outputs": [],
   "source": [
    "stats_df_sorted_by_day_of_week = df_sorted_by_day_of_week.groupby('day_of_week')['likes'].describe()"
   ]
  },
  {
   "cell_type": "code",
   "execution_count": 31,
   "id": "d108a95a-ec51-4b1e-838a-cd91fd087452",
   "metadata": {},
   "outputs": [],
   "source": [
    "iqr_df_sorted_by_day_of_week = df_sorted_by_day_of_week.groupby('day_of_week')['likes'].apply(lambda x: x.quantile(0.75) - x.quantile(0.25))"
   ]
  },
  {
   "cell_type": "code",
   "execution_count": 32,
   "id": "9268d492-df23-4620-baec-bbd3522c724b",
   "metadata": {},
   "outputs": [
    {
     "name": "stdout",
     "output_type": "stream",
     "text": [
      "Статистики:\n",
      "             count       mean       std  min   25%   50%    75%   max\n",
      "day_of_week                                                          \n",
      "Воскресенье    9.0   8.222222  5.995369  1.0  3.00   9.0  11.00  20.0\n",
      "Вторник        2.0   8.000000  9.899495  1.0  4.50   8.0  11.50  15.0\n",
      "Понедельник    5.0   6.400000  8.294577  1.0  2.00   3.0   5.00  21.0\n",
      "Пятница        2.0  11.500000  9.192388  5.0  8.25  11.5  14.75  18.0\n",
      "Среда          4.0   4.500000  5.196152  1.0  1.00   2.5   6.00  12.0\n",
      "Суббота        3.0   7.666667  6.429101  3.0  4.00   5.0  10.00  15.0\n",
      "Четверг        3.0   8.000000  7.549834  1.0  4.00   7.0  11.50  16.0\n"
     ]
    }
   ],
   "source": [
    "print(\"Статистики:\")\n",
    "print(stats_df_sorted_by_day_of_week) "
   ]
  },
  {
   "cell_type": "code",
   "execution_count": 33,
   "id": "f2efe0ea-f480-4f99-9a7c-0ec0805e9164",
   "metadata": {},
   "outputs": [
    {
     "name": "stdout",
     "output_type": "stream",
     "text": [
      "Межквартильный интервал (IQR):\n",
      "day_of_week\n",
      "Воскресенье    8.0\n",
      "Вторник        7.0\n",
      "Понедельник    3.0\n",
      "Пятница        6.5\n",
      "Среда          5.0\n",
      "Суббота        6.0\n",
      "Четверг        7.5\n",
      "Name: likes, dtype: float64\n"
     ]
    }
   ],
   "source": [
    "print(\"Межквартильный интервал (IQR):\")\n",
    "print(iqr_df_sorted_by_day_of_week)"
   ]
  },
  {
   "cell_type": "markdown",
   "id": "ea6a5154-d4df-4aad-9f7d-d29970b3838b",
   "metadata": {},
   "source": [
    "### Интерпретация:\n",
    "Из графика и вывода статистики видно, что медианные и межквартильные интервалы (представленные ящиками) различаются в зависимости от дня недели. "
   ]
  },
  {
   "cell_type": "markdown",
   "id": "653c6ee0-102b-431c-a13f-c393030cf584",
   "metadata": {},
   "source": [
    "#### Характеристика медиан:\n",
    "\n",
    "Воскресенье и Пятница имеют наивысшую медиану (9.0 и 11.5 соответственно), что означает, что половина лайков в эти дни выше этих значений.\n",
    "\n",
    "Вторник и Четверг также имеют высокие медианы (8.0 и 7.0).\n",
    "\n",
    "Среда и Понедельник имеют самые низкие медианы (2.5 и 3.0), что указывает на меньшую активность по сравнению с другими днями."
   ]
  },
  {
   "cell_type": "markdown",
   "id": "294bcd7e-5f31-41d1-a634-26b85c023b29",
   "metadata": {},
   "source": [
    "#### Характеристика среднего количества лайков:\n",
    "\n",
    "Пятница имеет наибольшее среднее количество лайков (11.50). Это может указывать на то, что пользователи активны перед выходными, что приводит к большему количеству лайков.\n",
    "\n",
    "Воскресенье также показывает высокое среднее количество лайков (8.22), что может указывать на высокую активность в выходной день.\n",
    "\n",
    "Четверг и Вторник имеют схожее среднее значение (8.00).\n",
    "\n",
    "Суббота также показывает значительное среднее (7.67), что также делает её активным днём для лайков.\n",
    "\n",
    "Понедельник и Среда показывают наименьшие средние значения (6.20 и 4.50 соответственно)."
   ]
  },
  {
   "cell_type": "markdown",
   "id": "c8b784ef-9940-4d30-8183-f675681e0006",
   "metadata": {},
   "source": [
    "#### Характеристика межквартильного интервала (IQR):\n",
    "Воскресенье (IQR = 8.0): Воскресенье имеет самый большой IQR, что указывает на значительный разброс лайков. Это говорит о том, что активность пользователей в этот день недели сильно варьируется.\n",
    "\n",
    "Четверг (IQR = 7.5): В четверг наблюдается заметный разброс в активности пользователей, сравнимый с воскресеньем и вторником.\n",
    "\n",
    "Вторник (IQR = 7.0): Значительный разброс лайков, но чуть меньший, чем в Воскресенье. Это также указывает на некоторую нестабильность в активности пользователей по вторникам.\n",
    "\n",
    "Пятница (IQR = 6.5): Средний разброс лайков, что указывает на умеренное варьирование активности пользователей по пятницам.\n",
    "\n",
    "Суббота (IQR = 6.0): Средний IQR указывает на то, что в Субботу количество лайков варьируется умеренно, но меньше, чем в воскресенье и четверг.\n",
    "\n",
    "Среда (IQR = 5.0): Разброс лайков меньше среднего, активность пользователей более предсказуема, но может варьироваться в небольших пределах.\n",
    "\n",
    "Понедельник (IQR = 4.0): Наименьший межквартильный интервал, что говорит о меньшем разбросе в количестве лайков. Пользовательская активность более стабильна по понедельникам, хотя она в среднем ниже."
   ]
  },
  {
   "cell_type": "markdown",
   "id": "610c7034-8b54-45d8-9d7f-b43be06f05b5",
   "metadata": {},
   "source": [
    "### Предварительный вывод:\n",
    "Пятница и Воскресенье являются самыми активными днями недели по количеству лайков, с высоким средним и медианным значениями, а также значительным разбросом.\n",
    "\n",
    "Четверг, Вторник и Суббота демонстрируют стабильный средний уровень активности, с приличными медианами и разбросом.\n",
    "\n",
    "Понедельник и Среда имеют наименьшие средние значения и медианы, что указывает на более низкую активность пользователей в эти дни."
   ]
  },
  {
   "cell_type": "markdown",
   "id": "db3bbafe-33b8-4a73-a689-7800d290fd8c",
   "metadata": {},
   "source": [
    "Однако, конечный вывод о влиянии дня недели на количество лайков за пост требует дополнительного анализа и проверки гипотез."
   ]
  },
  {
   "cell_type": "markdown",
   "id": "4d61329e-f311-49ef-b102-89c1b693d3ae",
   "metadata": {},
   "source": [
    "### Провожу однофакторный дисперсионный анализ (ANOVA), чтобы узнать p-значение"
   ]
  },
  {
   "cell_type": "code",
   "execution_count": 34,
   "id": "bb8ea627-862c-4a0b-b6ae-a439d0db4bc4",
   "metadata": {},
   "outputs": [],
   "source": [
    "# Группирую данные по дням недели.\n",
    "grouped_data_by_day = df_sorted_by_day_of_week.groupby('day_of_week')['likes'].apply(list)"
   ]
  },
  {
   "cell_type": "code",
   "execution_count": 35,
   "id": "f385bc0b-e9dd-4157-be59-1c95d308328c",
   "metadata": {},
   "outputs": [
    {
     "name": "stdout",
     "output_type": "stream",
     "text": [
      "Результаты однофакторного дисперсионного анализа (ANOVA) показали следующие значения:\n",
      "F-статистика: 0.27\n",
      "p-значение: 0.94\n"
     ]
    }
   ],
   "source": [
    "# Провожу однофакторный дисперсионный анализ (ANOVA) по дням недели.\n",
    "f_stat_day, p_value_day = stats.f_oneway(*grouped_data_by_day)\n",
    "print(\"Результаты однофакторного дисперсионного анализа (ANOVA) показали следующие значения:\")\n",
    "print(f\"F-статистика: {f_stat_day:.2f}\")\n",
    "print(f\"p-значение: {p_value_day:.2f}\")"
   ]
  },
  {
   "cell_type": "markdown",
   "id": "b9473fe9-82d0-43f8-b7b7-3942f9592f83",
   "metadata": {},
   "source": [
    "Поскольку p-значение значительно выше стандартного уровня значимости (0.05), мы не можем отвергнуть нулевую гипотезу о том, что среднее количество лайков не отличается в зависимости от дня недели."
   ]
  },
  {
   "cell_type": "markdown",
   "id": "d204cdc2-c175-4937-b528-111788417044",
   "metadata": {},
   "source": [
    "## Вывод: \n",
    "На основе статистического анализа нельзя утверждать, что день недели оказывает значительное влияние на количество лайков за пост. Различия в среднем количестве лайков в разные периоды времени статистически не значимы."
   ]
  },
  {
   "cell_type": "code",
   "execution_count": null,
   "id": "e12bb513-fa3f-43fa-b7fa-d3f262ad4ac1",
   "metadata": {},
   "outputs": [],
   "source": []
  },
  {
   "cell_type": "markdown",
   "id": "c052c06e-1cae-4b37-8bed-ff0ef735d124",
   "metadata": {},
   "source": [
    "# Влияние промежутка между постами"
   ]
  },
  {
   "cell_type": "markdown",
   "id": "3ec4c6b5-56fb-4523-816b-be8fd3e40ece",
   "metadata": {},
   "source": [
    "Предполагаю нулевую гипотезу о том, что среднее количество лайков не отличается в зависимости от промежутка времени между постами."
   ]
  },
  {
   "cell_type": "code",
   "execution_count": 36,
   "id": "9d72356a-f167-420f-ba42-5334e9f1c730",
   "metadata": {},
   "outputs": [],
   "source": [
    "# Нахожу промежуток времени между постами выраженный в днях.\n",
    "intervals = '''\n",
    "WITH ordered_data AS (\n",
    "    SELECT date,\n",
    "           LAG(date) OVER (ORDER BY date) AS dt_prev,\n",
    "           likes\n",
    "    FROM Like\n",
    ")\n",
    "SELECT date,\n",
    "       dt_prev,\n",
    "       JULIANDAY(date) - JULIANDAY(dt_prev) AS diff_days,\n",
    "       likes\n",
    "FROM ordered_data\n",
    "WHERE dt_prev IS NOT NULL\n",
    "ORDER BY date\n",
    "'''"
   ]
  },
  {
   "cell_type": "code",
   "execution_count": 37,
   "id": "5e288e1b-6422-40c6-90d9-a37ab1f81b71",
   "metadata": {},
   "outputs": [],
   "source": [
    "intervals_likes = pd.read_sql(intervals, conn)"
   ]
  },
  {
   "cell_type": "code",
   "execution_count": 38,
   "id": "15c55458-fffd-4c7d-8e5a-c27657ec539f",
   "metadata": {},
   "outputs": [
    {
     "data": {
      "text/html": [
       "<div>\n",
       "<style scoped>\n",
       "    .dataframe tbody tr th:only-of-type {\n",
       "        vertical-align: middle;\n",
       "    }\n",
       "\n",
       "    .dataframe tbody tr th {\n",
       "        vertical-align: top;\n",
       "    }\n",
       "\n",
       "    .dataframe thead th {\n",
       "        text-align: right;\n",
       "    }\n",
       "</style>\n",
       "<table border=\"1\" class=\"dataframe\">\n",
       "  <thead>\n",
       "    <tr style=\"text-align: right;\">\n",
       "      <th></th>\n",
       "      <th>date</th>\n",
       "      <th>dt_prev</th>\n",
       "      <th>diff_days</th>\n",
       "      <th>likes</th>\n",
       "    </tr>\n",
       "  </thead>\n",
       "  <tbody>\n",
       "    <tr>\n",
       "      <th>0</th>\n",
       "      <td>2020-12-01 17:07:22</td>\n",
       "      <td>2020-11-29 17:12:58</td>\n",
       "      <td>1.996111</td>\n",
       "      <td>1</td>\n",
       "    </tr>\n",
       "    <tr>\n",
       "      <th>1</th>\n",
       "      <td>2021-04-04 06:31:31</td>\n",
       "      <td>2020-12-01 17:07:22</td>\n",
       "      <td>123.558438</td>\n",
       "      <td>11</td>\n",
       "    </tr>\n",
       "    <tr>\n",
       "      <th>2</th>\n",
       "      <td>2021-04-04 08:42:04</td>\n",
       "      <td>2021-04-04 06:31:31</td>\n",
       "      <td>0.090660</td>\n",
       "      <td>1</td>\n",
       "    </tr>\n",
       "    <tr>\n",
       "      <th>3</th>\n",
       "      <td>2021-04-26 08:01:27</td>\n",
       "      <td>2021-04-04 08:42:04</td>\n",
       "      <td>21.971794</td>\n",
       "      <td>3</td>\n",
       "    </tr>\n",
       "    <tr>\n",
       "      <th>4</th>\n",
       "      <td>2021-05-14 13:43:26</td>\n",
       "      <td>2021-04-26 08:01:27</td>\n",
       "      <td>18.237488</td>\n",
       "      <td>18</td>\n",
       "    </tr>\n",
       "    <tr>\n",
       "      <th>5</th>\n",
       "      <td>2021-05-16 09:33:32</td>\n",
       "      <td>2021-05-14 13:43:26</td>\n",
       "      <td>1.826458</td>\n",
       "      <td>20</td>\n",
       "    </tr>\n",
       "    <tr>\n",
       "      <th>6</th>\n",
       "      <td>2021-06-02 19:00:13</td>\n",
       "      <td>2021-05-16 09:33:32</td>\n",
       "      <td>17.393530</td>\n",
       "      <td>4</td>\n",
       "    </tr>\n",
       "    <tr>\n",
       "      <th>7</th>\n",
       "      <td>2021-06-30 20:30:26</td>\n",
       "      <td>2021-06-02 19:00:13</td>\n",
       "      <td>28.062650</td>\n",
       "      <td>1</td>\n",
       "    </tr>\n",
       "    <tr>\n",
       "      <th>8</th>\n",
       "      <td>2021-08-01 20:42:26</td>\n",
       "      <td>2021-06-30 20:30:26</td>\n",
       "      <td>32.008333</td>\n",
       "      <td>12</td>\n",
       "    </tr>\n",
       "    <tr>\n",
       "      <th>9</th>\n",
       "      <td>2021-08-20 17:05:08</td>\n",
       "      <td>2021-08-01 20:42:26</td>\n",
       "      <td>18.849097</td>\n",
       "      <td>5</td>\n",
       "    </tr>\n",
       "    <tr>\n",
       "      <th>10</th>\n",
       "      <td>2021-10-10 21:30:11</td>\n",
       "      <td>2021-08-20 17:05:08</td>\n",
       "      <td>51.184063</td>\n",
       "      <td>3</td>\n",
       "    </tr>\n",
       "    <tr>\n",
       "      <th>11</th>\n",
       "      <td>2021-10-25 20:14:55</td>\n",
       "      <td>2021-10-10 21:30:11</td>\n",
       "      <td>14.947731</td>\n",
       "      <td>21</td>\n",
       "    </tr>\n",
       "    <tr>\n",
       "      <th>12</th>\n",
       "      <td>2021-11-06 11:52:18</td>\n",
       "      <td>2021-10-25 20:14:55</td>\n",
       "      <td>11.650961</td>\n",
       "      <td>3</td>\n",
       "    </tr>\n",
       "    <tr>\n",
       "      <th>13</th>\n",
       "      <td>2021-12-02 21:47:24</td>\n",
       "      <td>2021-11-06 11:52:18</td>\n",
       "      <td>26.413264</td>\n",
       "      <td>16</td>\n",
       "    </tr>\n",
       "    <tr>\n",
       "      <th>14</th>\n",
       "      <td>2021-12-18 20:21:13</td>\n",
       "      <td>2021-12-02 21:47:24</td>\n",
       "      <td>15.940150</td>\n",
       "      <td>15</td>\n",
       "    </tr>\n",
       "    <tr>\n",
       "      <th>15</th>\n",
       "      <td>2021-12-30 21:29:34</td>\n",
       "      <td>2021-12-18 20:21:13</td>\n",
       "      <td>12.047465</td>\n",
       "      <td>7</td>\n",
       "    </tr>\n",
       "    <tr>\n",
       "      <th>16</th>\n",
       "      <td>2022-01-16 00:46:57</td>\n",
       "      <td>2021-12-30 21:29:34</td>\n",
       "      <td>16.137072</td>\n",
       "      <td>10</td>\n",
       "    </tr>\n",
       "    <tr>\n",
       "      <th>17</th>\n",
       "      <td>2022-01-16 22:41:07</td>\n",
       "      <td>2022-01-16 00:46:57</td>\n",
       "      <td>0.912616</td>\n",
       "      <td>2</td>\n",
       "    </tr>\n",
       "    <tr>\n",
       "      <th>18</th>\n",
       "      <td>2022-01-24 21:50:50</td>\n",
       "      <td>2022-01-16 22:41:07</td>\n",
       "      <td>7.965081</td>\n",
       "      <td>1</td>\n",
       "    </tr>\n",
       "    <tr>\n",
       "      <th>19</th>\n",
       "      <td>2022-01-25 16:50:21</td>\n",
       "      <td>2022-01-24 21:50:50</td>\n",
       "      <td>0.791331</td>\n",
       "      <td>15</td>\n",
       "    </tr>\n",
       "    <tr>\n",
       "      <th>20</th>\n",
       "      <td>2022-05-07 19:08:08</td>\n",
       "      <td>2022-01-25 16:50:21</td>\n",
       "      <td>102.095683</td>\n",
       "      <td>5</td>\n",
       "    </tr>\n",
       "    <tr>\n",
       "      <th>21</th>\n",
       "      <td>2022-05-11 23:30:51</td>\n",
       "      <td>2022-05-07 19:08:08</td>\n",
       "      <td>4.182442</td>\n",
       "      <td>1</td>\n",
       "    </tr>\n",
       "    <tr>\n",
       "      <th>22</th>\n",
       "      <td>2022-08-03 16:02:05</td>\n",
       "      <td>2022-05-11 23:30:51</td>\n",
       "      <td>83.688356</td>\n",
       "      <td>12</td>\n",
       "    </tr>\n",
       "    <tr>\n",
       "      <th>23</th>\n",
       "      <td>2022-10-24 15:40:21</td>\n",
       "      <td>2022-08-03 16:02:05</td>\n",
       "      <td>81.984907</td>\n",
       "      <td>2</td>\n",
       "    </tr>\n",
       "    <tr>\n",
       "      <th>24</th>\n",
       "      <td>2023-03-09 01:25:17</td>\n",
       "      <td>2022-10-24 15:40:21</td>\n",
       "      <td>135.406204</td>\n",
       "      <td>1</td>\n",
       "    </tr>\n",
       "    <tr>\n",
       "      <th>25</th>\n",
       "      <td>2023-09-24 19:55:55</td>\n",
       "      <td>2023-03-09 01:25:17</td>\n",
       "      <td>199.771273</td>\n",
       "      <td>9</td>\n",
       "    </tr>\n",
       "    <tr>\n",
       "      <th>26</th>\n",
       "      <td>2024-09-16 13:38:04</td>\n",
       "      <td>2023-09-24 19:55:55</td>\n",
       "      <td>357.737604</td>\n",
       "      <td>5</td>\n",
       "    </tr>\n",
       "  </tbody>\n",
       "</table>\n",
       "</div>"
      ],
      "text/plain": [
       "                   date              dt_prev   diff_days  likes\n",
       "0   2020-12-01 17:07:22  2020-11-29 17:12:58    1.996111      1\n",
       "1   2021-04-04 06:31:31  2020-12-01 17:07:22  123.558438     11\n",
       "2   2021-04-04 08:42:04  2021-04-04 06:31:31    0.090660      1\n",
       "3   2021-04-26 08:01:27  2021-04-04 08:42:04   21.971794      3\n",
       "4   2021-05-14 13:43:26  2021-04-26 08:01:27   18.237488     18\n",
       "5   2021-05-16 09:33:32  2021-05-14 13:43:26    1.826458     20\n",
       "6   2021-06-02 19:00:13  2021-05-16 09:33:32   17.393530      4\n",
       "7   2021-06-30 20:30:26  2021-06-02 19:00:13   28.062650      1\n",
       "8   2021-08-01 20:42:26  2021-06-30 20:30:26   32.008333     12\n",
       "9   2021-08-20 17:05:08  2021-08-01 20:42:26   18.849097      5\n",
       "10  2021-10-10 21:30:11  2021-08-20 17:05:08   51.184063      3\n",
       "11  2021-10-25 20:14:55  2021-10-10 21:30:11   14.947731     21\n",
       "12  2021-11-06 11:52:18  2021-10-25 20:14:55   11.650961      3\n",
       "13  2021-12-02 21:47:24  2021-11-06 11:52:18   26.413264     16\n",
       "14  2021-12-18 20:21:13  2021-12-02 21:47:24   15.940150     15\n",
       "15  2021-12-30 21:29:34  2021-12-18 20:21:13   12.047465      7\n",
       "16  2022-01-16 00:46:57  2021-12-30 21:29:34   16.137072     10\n",
       "17  2022-01-16 22:41:07  2022-01-16 00:46:57    0.912616      2\n",
       "18  2022-01-24 21:50:50  2022-01-16 22:41:07    7.965081      1\n",
       "19  2022-01-25 16:50:21  2022-01-24 21:50:50    0.791331     15\n",
       "20  2022-05-07 19:08:08  2022-01-25 16:50:21  102.095683      5\n",
       "21  2022-05-11 23:30:51  2022-05-07 19:08:08    4.182442      1\n",
       "22  2022-08-03 16:02:05  2022-05-11 23:30:51   83.688356     12\n",
       "23  2022-10-24 15:40:21  2022-08-03 16:02:05   81.984907      2\n",
       "24  2023-03-09 01:25:17  2022-10-24 15:40:21  135.406204      1\n",
       "25  2023-09-24 19:55:55  2023-03-09 01:25:17  199.771273      9\n",
       "26  2024-09-16 13:38:04  2023-09-24 19:55:55  357.737604      5"
      ]
     },
     "execution_count": 38,
     "metadata": {},
     "output_type": "execute_result"
    }
   ],
   "source": [
    "intervals_likes"
   ]
  },
  {
   "cell_type": "code",
   "execution_count": 39,
   "id": "4a7aa401-a959-480e-a6b9-a89c68300db7",
   "metadata": {},
   "outputs": [
    {
     "data": {
      "image/png": "[encoded data removed]",
      "text/plain": [
       "<Figure size 1600x800 with 1 Axes>"
      ]
     },
     "metadata": {},
     "output_type": "display_data"
    }
   ],
   "source": [
    "# Визуализирую график соотношения несгрупированного промежутка между постами на количество лайков.\n",
    "plt.figure(figsize=(16,8)) \n",
    "sns.set_theme(style='whitegrid')\n",
    "sns.set_context('paper')\n",
    "ax = sns.scatterplot(x='diff_days',y='likes',data=intervals_likes)\n",
    "ax.set_title('\\nГрафик соотношения промежутка между постами на количество лайков\\n', fontsize=16)\n",
    "ax.set_xlabel('\\nПромежуток между постами', fontsize=16)\n",
    "ax.set_ylabel('Колличество лайков\\n', fontsize=16)\n",
    "ax.grid(True)\n",
    "sns.despine()\n",
    "\n",
    "plt.xticks(fontsize=16)\n",
    "plt.yticks(fontsize=16)\n",
    "\n",
    "plt.show()"
   ]
  },
  {
   "cell_type": "code",
   "execution_count": 40,
   "id": "9196d550-b1e5-4b0c-9754-bb7bd235fb86",
   "metadata": {},
   "outputs": [],
   "source": [
    "# Создаю категории для промежутков между постами.\n",
    "intervals_likes['interval_category'] = pd.cut(intervals_likes['diff_days'], bins=[0, 7, 30, float('inf')],\n",
    "                                              labels=['Короткий (0-7 дней)', 'Средний (7-30 дней)', 'Длинный (30+ дней)'])\n"
   ]
  },
  {
   "cell_type": "code",
   "execution_count": 41,
   "id": "d4e391c6-ee9e-44ad-a0b6-89f0e7be23c4",
   "metadata": {},
   "outputs": [
    {
     "data": {
      "image/png": "[encoded data removed]",
      "text/plain": [
       "<Figure size 1600x800 with 1 Axes>"
      ]
     },
     "metadata": {},
     "output_type": "display_data"
    }
   ],
   "source": [
    "# Визуализирую график соотношения сгрупированного промежутка между постами на количество лайков.\n",
    "plt.figure(figsize=(16,8)) \n",
    "sns.set_theme(style='whitegrid')\n",
    "sns.set_context('paper')\n",
    "ax = sns.boxplot(x='interval_category', y='likes', data=intervals_likes)\n",
    "ax.set_title('\\nГрафик медиан и межквартильных интервалов в зависимости от промежутка между постами\\n', fontsize=16)\n",
    "ax.set_xlabel('\\nКатегория промежутка между постами', fontsize=16)\n",
    "ax.set_ylabel('Количество лайков\\n', fontsize=16)\n",
    "ax.grid(True)\n",
    "sns.despine()\n",
    "\n",
    "plt.xticks(fontsize=16)\n",
    "plt.yticks(fontsize=16)\n",
    "\n",
    "plt.show()"
   ]
  },
  {
   "cell_type": "code",
   "execution_count": 42,
   "id": "bad9aff8-dca5-4034-941b-f37de3be0309",
   "metadata": {},
   "outputs": [],
   "source": [
    "stats_interval_category = intervals_likes.groupby('interval_category', observed=False)['likes'].describe()"
   ]
  },
  {
   "cell_type": "code",
   "execution_count": 43,
   "id": "b7ea450d-1511-4bc9-9eb3-34513e4c74a9",
   "metadata": {},
   "outputs": [],
   "source": [
    "iqr_interval_category = intervals_likes.groupby('interval_category', observed=False)['likes'].apply(lambda x: x.quantile(0.75) - x.quantile(0.25))"
   ]
  },
  {
   "cell_type": "code",
   "execution_count": 44,
   "id": "2889e6d0-2a55-4a6b-9ebd-366e824b0145",
   "metadata": {},
   "outputs": [
    {
     "name": "stdout",
     "output_type": "stream",
     "text": [
      "Статистики:\n",
      "                     count      mean       std  min  25%  50%    75%   max\n",
      "interval_category                                                         \n",
      "Короткий (0-7 дней)    6.0  6.666667  8.547904  1.0  1.0  1.5  11.75  20.0\n",
      "Средний (7-30 дней)   12.0  8.666667  7.101003  1.0  3.0  6.0  15.25  21.0\n",
      "Длинный (30+ дней)     9.0  6.666667  4.387482  1.0  3.0  5.0  11.00  12.0\n"
     ]
    }
   ],
   "source": [
    "print(\"Статистики:\")\n",
    "print(stats_interval_category) "
   ]
  },
  {
   "cell_type": "code",
   "execution_count": 45,
   "id": "da3c4dbc-cf33-4eaf-a25c-b9a223a8838f",
   "metadata": {},
   "outputs": [
    {
     "name": "stdout",
     "output_type": "stream",
     "text": [
      "Межквартильный интервал (IQR):\n",
      "interval_category\n",
      "Короткий (0-7 дней)    10.75\n",
      "Средний (7-30 дней)    12.25\n",
      "Длинный (30+ дней)      8.00\n",
      "Name: likes, dtype: float64\n"
     ]
    }
   ],
   "source": [
    "print(\"Межквартильный интервал (IQR):\")\n",
    "print(iqr_interval_category)"
   ]
  },
  {
   "cell_type": "markdown",
   "id": "a210856b-7d76-4ca9-b408-65317a101c3f",
   "metadata": {},
   "source": [
    "### Интерпретация:\n",
    "Из графика и вывода статистики видно, что медианные и межквартильные интервалы (представленные ящиками) различаются в зависимости от категории промежутка времени между постми. "
   ]
  },
  {
   "cell_type": "markdown",
   "id": "2ba617d8-9375-4b24-8a85-6ca765e54eb2",
   "metadata": {},
   "source": [
    "#### Характеристика среднего количества лайков:\n",
    "\n",
    "Средний интервал (7-30 дней) имеет наибольшее среднее количество лайков (8.67), что может свидетельствовать о том, что пользователи реагируют активнее на посты, публикуемые через 1-4 недели после предыдущего.\n",
    "\n",
    "Короткий интервал (0-7 дней) и Длинный интервал (30+ дней) имеют примерно одинаковое среднее количество лайков (6.67 и 6.56 соответственно), что может говорить о том, что слишком частые или, наоборот, слишком редкие публикации получают меньше лайков."
   ]
  },
  {
   "cell_type": "markdown",
   "id": "9046e5b9-67d2-4eb6-b1de-1edd30a8c8a2",
   "metadata": {},
   "source": [
    "#### Характеристика медиан:\n",
    "\n",
    "Средний интервал показывает наибольшую медиану (6 лайков), что подтверждает более высокую активность пользователей при умеренной частоте публикаций.\n",
    "\n",
    "Короткий интервал имеет медиану 1.5 лайка, что указывает на то, что большинство постов, опубликованных с небольшими промежутками, получают мало лайков.\n",
    "\n",
    "Длинный интервал имеет медиану 5 лайков, что указывает на средний уровень активности при более редких постах, но значительно выше, чем у короткого интервала."
   ]
  },
  {
   "cell_type": "markdown",
   "id": "739c2a02-14f7-4cd0-8290-e17d908b2104",
   "metadata": {},
   "source": [
    "#### Характеристика межквартильного интервала (IQR):\n",
    "\n",
    "Средний интервал имеет наибольший IQR (12.25), что свидетельствует о большом разбросе количества лайков. Это может означать, что посты в этом интервале времени могут получать как высокое, так и низкое количество лайков.\n",
    "\n",
    "Короткий интервал имеет IQR 10.75, что также указывает на значительный разброс, хотя медиана указывает на то, что большинство постов получают мало лайков, но иногда бывают исключения с более высоким количеством лайков.\n",
    "\n",
    "Длинный интервал имеет самый низкий IQR (8.0), что говорит о меньшем разбросе данных. Это может свидетельствовать о том, что при длинных промежутках между постами количество лайков более стабильно, но не достигает высоких значений."
   ]
  },
  {
   "cell_type": "markdown",
   "id": "a851b531-1263-432c-b73e-ab89d72c273f",
   "metadata": {},
   "source": [
    "### Предварительный вывод:\n",
    "Средний интервал (7-30 дней) является наиболее эффективным по количеству лайков, как по среднему значению, так и по медиане. Это говорит о том, что пользователи более активно взаимодействуют с контентом, когда посты публикуются через 1-4 недели после предыдущего.\n",
    "\n",
    "Короткий интервал (0-7 дней) приводит к меньшему количеству лайков, несмотря на несколько случаев высоких показателей. Это может указывать на то, что слишком частые посты утомляют аудиторию и снижают вовлеченность.\n",
    "\n",
    "Длинный интервал (30+ дней) также имеет относительно низкие показатели, особенно по медиане, что указывает на снижение интереса при редких публикациях. Тем не менее, количество лайков остается более стабильным в пределах небольшого диапазона."
   ]
  },
  {
   "cell_type": "markdown",
   "id": "911e09a0-d1be-4ce4-a74e-ba78a1b03659",
   "metadata": {},
   "source": [
    "Однако, конечный вывод о влиянии времени промежутка между постами на количество лайков за пост требует дополнительного анализа и проверки гипотез."
   ]
  },
  {
   "cell_type": "markdown",
   "id": "ae5e3a2b-6514-4027-9a0e-51c4704ae2e3",
   "metadata": {},
   "source": [
    "### Провожу корреляционный анализ используя коэффициент корреляции Пирсона для количественной оценки зависимости."
   ]
  },
  {
   "cell_type": "code",
   "execution_count": 46,
   "id": "7f182fe7-9bd7-4768-bd2f-3ec4d4efff01",
   "metadata": {},
   "outputs": [
    {
     "name": "stdout",
     "output_type": "stream",
     "text": [
      "Значение кореляции Пирсона: -0.09538154038293667, p-value: 0.6360372976541577\n"
     ]
    }
   ],
   "source": [
    "corr_pearson, p_value_corr = stats.pearsonr(intervals_likes['diff_days'], intervals_likes['likes'])\n",
    "print(f\"Значение кореляции Пирсона: {corr_pearson}, p-value: {p_value_corr}\")"
   ]
  },
  {
   "cell_type": "markdown",
   "id": "b581584e-2bbf-4f59-ad45-916f6b1a5b49",
   "metadata": {},
   "source": [
    "Поскольку p-значение значительно выше стандартного уровня значимости (0.05), мы не можем отвергнуть нулевую гипотезу о том, что среднее количество лайков не отличается в зависимости от времени промежутка между постами."
   ]
  },
  {
   "cell_type": "markdown",
   "id": "dccf7328-4ba5-4c4d-8f43-c79406cde337",
   "metadata": {},
   "source": [
    "## Вывод: \n",
    "На основе статистического анализа нельзя утверждать, что время промежутка между постами  оказывает значительное влияние на количество лайков за пост. Различия в среднем количестве лайков в разные периоды времени между постами статистически не значимы. "
   ]
  },
  {
   "cell_type": "code",
   "execution_count": null,
   "id": "fc33bcd4-189c-4c09-ae16-7282f422cfe9",
   "metadata": {},
   "outputs": [],
   "source": []
  },
  {
   "cell_type": "code",
   "execution_count": 47,
   "id": "56137325-2576-4351-a30e-170e2f00efc7",
   "metadata": {},
   "outputs": [],
   "source": [
    "# Отключаюсь от базы данных SQLite в памяти.\n",
    "conn.close()"
   ]
  },
  {
   "cell_type": "code",
   "execution_count": null,
   "id": "a9522fc6-efe5-415e-87bc-f9dc86e453d0",
   "metadata": {},
   "outputs": [],
   "source": []
  },
  {
   "cell_type": "markdown",
   "id": "3ad7e013-3305-44f9-b3dc-d30e990ab76d",
   "metadata": {},
   "source": [
    "# Итоговый вывод по заданию:"
   ]
  },
  {
   "cell_type": "markdown",
   "id": "94e8a5b1-81b1-4a09-858d-e27a4c67e64d",
   "metadata": {},
   "source": [
    "Я провёл анализ колличества лайков под постами на своей странице в социальной сети Вконтакте по трём характеристикам: время суток публикации, день недели и промежуток времени между постами.\n",
    "\n",
    "Проанализировав получившиеся результаты, я могу сказать, что влияние этих характеристик на лайки под постами не значимы, ввиду малого колличества постов, цели того, чтобы на пост ставили лайки, и отсутствия сравнения, на мой взгляд, более важных характеристик, такие как: наличие или отсутствие музыки, фото, видео в посте; характер поста: об увлечениях, о новостях, о друзьях, о чувствах; знаменательность дня: день рождение, новый год, день победы и иные.\n",
    "\n",
    "Кроме того, на мой взгляд, было бы более правильным смотреть по частному количества лайков на количество просмотров записи."
   ]
  },
  {
   "cell_type": "code",
   "execution_count": null,
   "id": "015d4642-433d-4628-a232-c3578b0853b2",
   "metadata": {},
   "outputs": [],
   "source": []
  }
 ],
 "metadata": {
  "kernelspec": {
   "display_name": "Python 3 (ipykernel)",
   "language": "python",
   "name": "python3"
  },
  "language_info": {
   "codemirror_mode": {
    "name": "ipython",
    "version": 3
   },
   "file_extension": ".py",
   "mimetype": "text/x-python",
   "name": "python",
   "nbconvert_exporter": "python",
   "pygments_lexer": "ipython3",
   "version": "3.11.5"
  }
 },
 "nbformat": 4,
 "nbformat_minor": 5
}
